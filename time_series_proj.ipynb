{
 "cells": [
  {
   "cell_type": "code",
   "execution_count": 104,
   "id": "e107214f",
   "metadata": {},
   "outputs": [],
   "source": [
    "import pandas as pd\n",
    "import os\n",
    "import requests\n",
    "from acquire import get_items, new_stores, get_stores, get_sales, combined_data, get_germany_power\n",
    "from prepare import prep_combine, prep_opsd\n",
    "import matplotlib.pyplot as plt\n",
    "import numpy as np\n",
    "import seaborn as sns\n",
    "import datetime\n",
    "import statsmodels.api as sm"
   ]
  },
  {
   "cell_type": "code",
   "execution_count": 105,
   "id": "46307012",
   "metadata": {},
   "outputs": [],
   "source": [
    "df = pd.read_csv('Activity_data.csv')"
   ]
  },
  {
   "cell_type": "code",
   "execution_count": 106,
   "id": "0126dcfa",
   "metadata": {},
   "outputs": [
    {
     "name": "stdout",
     "output_type": "stream",
     "text": [
      "<class 'pandas.core.frame.DataFrame'>\n",
      "RangeIndex: 225 entries, 0 to 224\n",
      "Data columns (total 10 columns):\n",
      " #   Column                  Non-Null Count  Dtype  \n",
      "---  ------                  --------------  -----  \n",
      " 0   Date                    225 non-null    object \n",
      " 1   Calories Burned         225 non-null    object \n",
      " 2   Steps                   225 non-null    object \n",
      " 3   Distance                225 non-null    float64\n",
      " 4   Floors                  225 non-null    int64  \n",
      " 5   Minutes Sedentary       225 non-null    object \n",
      " 6   Minutes Lightly Active  225 non-null    int64  \n",
      " 7   Minutes Fairly Active   225 non-null    int64  \n",
      " 8   Minutes Very Active     225 non-null    int64  \n",
      " 9   Activity Calories       225 non-null    object \n",
      "dtypes: float64(1), int64(4), object(5)\n",
      "memory usage: 17.7+ KB\n"
     ]
    }
   ],
   "source": [
    "df.info()"
   ]
  },
  {
   "cell_type": "code",
   "execution_count": 111,
   "id": "acba1c5a",
   "metadata": {},
   "outputs": [],
   "source": [
    "df['Date'] = pd.to_datetime(df.Date)"
   ]
  },
  {
   "cell_type": "code",
   "execution_count": 112,
   "id": "a375fcf2",
   "metadata": {},
   "outputs": [],
   "source": [
    "df = df.replace(',','', regex=True)"
   ]
  },
  {
   "cell_type": "code",
   "execution_count": 113,
   "id": "40f120f5",
   "metadata": {},
   "outputs": [],
   "source": [
    "c = df.select_dtypes(object).columns\n",
    "df[c] = df[c].apply(pd.to_numeric,errors='coerce')"
   ]
  },
  {
   "cell_type": "code",
   "execution_count": 114,
   "id": "91db438c",
   "metadata": {},
   "outputs": [],
   "source": [
    "df = df.set_index('Date')"
   ]
  },
  {
   "cell_type": "code",
   "execution_count": 115,
   "id": "5b791dcb",
   "metadata": {},
   "outputs": [
    {
     "data": {
      "text/html": [
       "<div>\n",
       "<style scoped>\n",
       "    .dataframe tbody tr th:only-of-type {\n",
       "        vertical-align: middle;\n",
       "    }\n",
       "\n",
       "    .dataframe tbody tr th {\n",
       "        vertical-align: top;\n",
       "    }\n",
       "\n",
       "    .dataframe thead th {\n",
       "        text-align: right;\n",
       "    }\n",
       "</style>\n",
       "<table border=\"1\" class=\"dataframe\">\n",
       "  <thead>\n",
       "    <tr style=\"text-align: right;\">\n",
       "      <th></th>\n",
       "      <th>Calories Burned</th>\n",
       "      <th>Steps</th>\n",
       "      <th>Distance</th>\n",
       "      <th>Floors</th>\n",
       "      <th>Minutes Sedentary</th>\n",
       "      <th>Minutes Lightly Active</th>\n",
       "      <th>Minutes Fairly Active</th>\n",
       "      <th>Minutes Very Active</th>\n",
       "      <th>Activity Calories</th>\n",
       "    </tr>\n",
       "    <tr>\n",
       "      <th>Date</th>\n",
       "      <th></th>\n",
       "      <th></th>\n",
       "      <th></th>\n",
       "      <th></th>\n",
       "      <th></th>\n",
       "      <th></th>\n",
       "      <th></th>\n",
       "      <th></th>\n",
       "      <th></th>\n",
       "    </tr>\n",
       "  </thead>\n",
       "  <tbody>\n",
       "    <tr>\n",
       "      <th>2018-04-26</th>\n",
       "      <td>2635</td>\n",
       "      <td>2931</td>\n",
       "      <td>1.38</td>\n",
       "      <td>2</td>\n",
       "      <td>1347</td>\n",
       "      <td>93</td>\n",
       "      <td>0</td>\n",
       "      <td>0</td>\n",
       "      <td>566</td>\n",
       "    </tr>\n",
       "    <tr>\n",
       "      <th>2018-04-27</th>\n",
       "      <td>3649</td>\n",
       "      <td>9971</td>\n",
       "      <td>4.70</td>\n",
       "      <td>19</td>\n",
       "      <td>1158</td>\n",
       "      <td>219</td>\n",
       "      <td>46</td>\n",
       "      <td>17</td>\n",
       "      <td>1752</td>\n",
       "    </tr>\n",
       "    <tr>\n",
       "      <th>2018-04-28</th>\n",
       "      <td>3379</td>\n",
       "      <td>3521</td>\n",
       "      <td>1.66</td>\n",
       "      <td>2</td>\n",
       "      <td>702</td>\n",
       "      <td>155</td>\n",
       "      <td>22</td>\n",
       "      <td>11</td>\n",
       "      <td>1124</td>\n",
       "    </tr>\n",
       "    <tr>\n",
       "      <th>2018-04-29</th>\n",
       "      <td>2851</td>\n",
       "      <td>1639</td>\n",
       "      <td>0.77</td>\n",
       "      <td>0</td>\n",
       "      <td>891</td>\n",
       "      <td>122</td>\n",
       "      <td>0</td>\n",
       "      <td>0</td>\n",
       "      <td>602</td>\n",
       "    </tr>\n",
       "    <tr>\n",
       "      <th>2018-04-30</th>\n",
       "      <td>2825</td>\n",
       "      <td>1323</td>\n",
       "      <td>0.62</td>\n",
       "      <td>0</td>\n",
       "      <td>880</td>\n",
       "      <td>104</td>\n",
       "      <td>0</td>\n",
       "      <td>0</td>\n",
       "      <td>540</td>\n",
       "    </tr>\n",
       "    <tr>\n",
       "      <th>...</th>\n",
       "      <td>...</td>\n",
       "      <td>...</td>\n",
       "      <td>...</td>\n",
       "      <td>...</td>\n",
       "      <td>...</td>\n",
       "      <td>...</td>\n",
       "      <td>...</td>\n",
       "      <td>...</td>\n",
       "      <td>...</td>\n",
       "    </tr>\n",
       "    <tr>\n",
       "      <th>2018-12-02</th>\n",
       "      <td>3957</td>\n",
       "      <td>13257</td>\n",
       "      <td>6.23</td>\n",
       "      <td>195</td>\n",
       "      <td>725</td>\n",
       "      <td>265</td>\n",
       "      <td>13</td>\n",
       "      <td>70</td>\n",
       "      <td>2305</td>\n",
       "    </tr>\n",
       "    <tr>\n",
       "      <th>2018-12-03</th>\n",
       "      <td>3660</td>\n",
       "      <td>12915</td>\n",
       "      <td>6.12</td>\n",
       "      <td>6</td>\n",
       "      <td>782</td>\n",
       "      <td>219</td>\n",
       "      <td>40</td>\n",
       "      <td>51</td>\n",
       "      <td>1993</td>\n",
       "    </tr>\n",
       "    <tr>\n",
       "      <th>2018-12-04</th>\n",
       "      <td>3384</td>\n",
       "      <td>13763</td>\n",
       "      <td>6.49</td>\n",
       "      <td>13</td>\n",
       "      <td>608</td>\n",
       "      <td>199</td>\n",
       "      <td>11</td>\n",
       "      <td>67</td>\n",
       "      <td>1663</td>\n",
       "    </tr>\n",
       "    <tr>\n",
       "      <th>2018-12-05</th>\n",
       "      <td>3670</td>\n",
       "      <td>13865</td>\n",
       "      <td>6.52</td>\n",
       "      <td>12</td>\n",
       "      <td>739</td>\n",
       "      <td>200</td>\n",
       "      <td>12</td>\n",
       "      <td>69</td>\n",
       "      <td>1968</td>\n",
       "    </tr>\n",
       "    <tr>\n",
       "      <th>2018-12-06</th>\n",
       "      <td>3669</td>\n",
       "      <td>14774</td>\n",
       "      <td>6.96</td>\n",
       "      <td>9</td>\n",
       "      <td>647</td>\n",
       "      <td>198</td>\n",
       "      <td>4</td>\n",
       "      <td>78</td>\n",
       "      <td>1962</td>\n",
       "    </tr>\n",
       "  </tbody>\n",
       "</table>\n",
       "<p>225 rows × 9 columns</p>\n",
       "</div>"
      ],
      "text/plain": [
       "            Calories Burned  Steps  Distance  Floors  Minutes Sedentary  \\\n",
       "Date                                                                      \n",
       "2018-04-26             2635   2931      1.38       2               1347   \n",
       "2018-04-27             3649   9971      4.70      19               1158   \n",
       "2018-04-28             3379   3521      1.66       2                702   \n",
       "2018-04-29             2851   1639      0.77       0                891   \n",
       "2018-04-30             2825   1323      0.62       0                880   \n",
       "...                     ...    ...       ...     ...                ...   \n",
       "2018-12-02             3957  13257      6.23     195                725   \n",
       "2018-12-03             3660  12915      6.12       6                782   \n",
       "2018-12-04             3384  13763      6.49      13                608   \n",
       "2018-12-05             3670  13865      6.52      12                739   \n",
       "2018-12-06             3669  14774      6.96       9                647   \n",
       "\n",
       "            Minutes Lightly Active  Minutes Fairly Active  \\\n",
       "Date                                                        \n",
       "2018-04-26                      93                      0   \n",
       "2018-04-27                     219                     46   \n",
       "2018-04-28                     155                     22   \n",
       "2018-04-29                     122                      0   \n",
       "2018-04-30                     104                      0   \n",
       "...                            ...                    ...   \n",
       "2018-12-02                     265                     13   \n",
       "2018-12-03                     219                     40   \n",
       "2018-12-04                     199                     11   \n",
       "2018-12-05                     200                     12   \n",
       "2018-12-06                     198                      4   \n",
       "\n",
       "            Minutes Very Active  Activity Calories  \n",
       "Date                                                \n",
       "2018-04-26                    0                566  \n",
       "2018-04-27                   17               1752  \n",
       "2018-04-28                   11               1124  \n",
       "2018-04-29                    0                602  \n",
       "2018-04-30                    0                540  \n",
       "...                         ...                ...  \n",
       "2018-12-02                   70               2305  \n",
       "2018-12-03                   51               1993  \n",
       "2018-12-04                   67               1663  \n",
       "2018-12-05                   69               1968  \n",
       "2018-12-06                   78               1962  \n",
       "\n",
       "[225 rows x 9 columns]"
      ]
     },
     "execution_count": 115,
     "metadata": {},
     "output_type": "execute_result"
    }
   ],
   "source": [
    "df"
   ]
  },
  {
   "cell_type": "code",
   "execution_count": 116,
   "id": "754ca633",
   "metadata": {},
   "outputs": [],
   "source": [
    "df = df.rename(columns={'Calories Burned': 'calories_burned', 'Minutes Sedentary': 'minutes_sedentary'})"
   ]
  },
  {
   "cell_type": "code",
   "execution_count": 117,
   "id": "3211a722",
   "metadata": {},
   "outputs": [
    {
     "data": {
      "text/html": [
       "<div>\n",
       "<style scoped>\n",
       "    .dataframe tbody tr th:only-of-type {\n",
       "        vertical-align: middle;\n",
       "    }\n",
       "\n",
       "    .dataframe tbody tr th {\n",
       "        vertical-align: top;\n",
       "    }\n",
       "\n",
       "    .dataframe thead th {\n",
       "        text-align: right;\n",
       "    }\n",
       "</style>\n",
       "<table border=\"1\" class=\"dataframe\">\n",
       "  <thead>\n",
       "    <tr style=\"text-align: right;\">\n",
       "      <th></th>\n",
       "      <th>calories_burned</th>\n",
       "      <th>Steps</th>\n",
       "      <th>Distance</th>\n",
       "      <th>Floors</th>\n",
       "      <th>minutes_sedentary</th>\n",
       "      <th>Minutes Lightly Active</th>\n",
       "      <th>Minutes Fairly Active</th>\n",
       "      <th>Minutes Very Active</th>\n",
       "      <th>Activity Calories</th>\n",
       "    </tr>\n",
       "    <tr>\n",
       "      <th>Date</th>\n",
       "      <th></th>\n",
       "      <th></th>\n",
       "      <th></th>\n",
       "      <th></th>\n",
       "      <th></th>\n",
       "      <th></th>\n",
       "      <th></th>\n",
       "      <th></th>\n",
       "      <th></th>\n",
       "    </tr>\n",
       "  </thead>\n",
       "  <tbody>\n",
       "    <tr>\n",
       "      <th>2018-04-26</th>\n",
       "      <td>2635</td>\n",
       "      <td>2931</td>\n",
       "      <td>1.38</td>\n",
       "      <td>2</td>\n",
       "      <td>1347</td>\n",
       "      <td>93</td>\n",
       "      <td>0</td>\n",
       "      <td>0</td>\n",
       "      <td>566</td>\n",
       "    </tr>\n",
       "    <tr>\n",
       "      <th>2018-04-27</th>\n",
       "      <td>3649</td>\n",
       "      <td>9971</td>\n",
       "      <td>4.70</td>\n",
       "      <td>19</td>\n",
       "      <td>1158</td>\n",
       "      <td>219</td>\n",
       "      <td>46</td>\n",
       "      <td>17</td>\n",
       "      <td>1752</td>\n",
       "    </tr>\n",
       "    <tr>\n",
       "      <th>2018-04-28</th>\n",
       "      <td>3379</td>\n",
       "      <td>3521</td>\n",
       "      <td>1.66</td>\n",
       "      <td>2</td>\n",
       "      <td>702</td>\n",
       "      <td>155</td>\n",
       "      <td>22</td>\n",
       "      <td>11</td>\n",
       "      <td>1124</td>\n",
       "    </tr>\n",
       "    <tr>\n",
       "      <th>2018-04-29</th>\n",
       "      <td>2851</td>\n",
       "      <td>1639</td>\n",
       "      <td>0.77</td>\n",
       "      <td>0</td>\n",
       "      <td>891</td>\n",
       "      <td>122</td>\n",
       "      <td>0</td>\n",
       "      <td>0</td>\n",
       "      <td>602</td>\n",
       "    </tr>\n",
       "    <tr>\n",
       "      <th>2018-04-30</th>\n",
       "      <td>2825</td>\n",
       "      <td>1323</td>\n",
       "      <td>0.62</td>\n",
       "      <td>0</td>\n",
       "      <td>880</td>\n",
       "      <td>104</td>\n",
       "      <td>0</td>\n",
       "      <td>0</td>\n",
       "      <td>540</td>\n",
       "    </tr>\n",
       "    <tr>\n",
       "      <th>...</th>\n",
       "      <td>...</td>\n",
       "      <td>...</td>\n",
       "      <td>...</td>\n",
       "      <td>...</td>\n",
       "      <td>...</td>\n",
       "      <td>...</td>\n",
       "      <td>...</td>\n",
       "      <td>...</td>\n",
       "      <td>...</td>\n",
       "    </tr>\n",
       "    <tr>\n",
       "      <th>2018-12-02</th>\n",
       "      <td>3957</td>\n",
       "      <td>13257</td>\n",
       "      <td>6.23</td>\n",
       "      <td>195</td>\n",
       "      <td>725</td>\n",
       "      <td>265</td>\n",
       "      <td>13</td>\n",
       "      <td>70</td>\n",
       "      <td>2305</td>\n",
       "    </tr>\n",
       "    <tr>\n",
       "      <th>2018-12-03</th>\n",
       "      <td>3660</td>\n",
       "      <td>12915</td>\n",
       "      <td>6.12</td>\n",
       "      <td>6</td>\n",
       "      <td>782</td>\n",
       "      <td>219</td>\n",
       "      <td>40</td>\n",
       "      <td>51</td>\n",
       "      <td>1993</td>\n",
       "    </tr>\n",
       "    <tr>\n",
       "      <th>2018-12-04</th>\n",
       "      <td>3384</td>\n",
       "      <td>13763</td>\n",
       "      <td>6.49</td>\n",
       "      <td>13</td>\n",
       "      <td>608</td>\n",
       "      <td>199</td>\n",
       "      <td>11</td>\n",
       "      <td>67</td>\n",
       "      <td>1663</td>\n",
       "    </tr>\n",
       "    <tr>\n",
       "      <th>2018-12-05</th>\n",
       "      <td>3670</td>\n",
       "      <td>13865</td>\n",
       "      <td>6.52</td>\n",
       "      <td>12</td>\n",
       "      <td>739</td>\n",
       "      <td>200</td>\n",
       "      <td>12</td>\n",
       "      <td>69</td>\n",
       "      <td>1968</td>\n",
       "    </tr>\n",
       "    <tr>\n",
       "      <th>2018-12-06</th>\n",
       "      <td>3669</td>\n",
       "      <td>14774</td>\n",
       "      <td>6.96</td>\n",
       "      <td>9</td>\n",
       "      <td>647</td>\n",
       "      <td>198</td>\n",
       "      <td>4</td>\n",
       "      <td>78</td>\n",
       "      <td>1962</td>\n",
       "    </tr>\n",
       "  </tbody>\n",
       "</table>\n",
       "<p>225 rows × 9 columns</p>\n",
       "</div>"
      ],
      "text/plain": [
       "            calories_burned  Steps  Distance  Floors  minutes_sedentary  \\\n",
       "Date                                                                      \n",
       "2018-04-26             2635   2931      1.38       2               1347   \n",
       "2018-04-27             3649   9971      4.70      19               1158   \n",
       "2018-04-28             3379   3521      1.66       2                702   \n",
       "2018-04-29             2851   1639      0.77       0                891   \n",
       "2018-04-30             2825   1323      0.62       0                880   \n",
       "...                     ...    ...       ...     ...                ...   \n",
       "2018-12-02             3957  13257      6.23     195                725   \n",
       "2018-12-03             3660  12915      6.12       6                782   \n",
       "2018-12-04             3384  13763      6.49      13                608   \n",
       "2018-12-05             3670  13865      6.52      12                739   \n",
       "2018-12-06             3669  14774      6.96       9                647   \n",
       "\n",
       "            Minutes Lightly Active  Minutes Fairly Active  \\\n",
       "Date                                                        \n",
       "2018-04-26                      93                      0   \n",
       "2018-04-27                     219                     46   \n",
       "2018-04-28                     155                     22   \n",
       "2018-04-29                     122                      0   \n",
       "2018-04-30                     104                      0   \n",
       "...                            ...                    ...   \n",
       "2018-12-02                     265                     13   \n",
       "2018-12-03                     219                     40   \n",
       "2018-12-04                     199                     11   \n",
       "2018-12-05                     200                     12   \n",
       "2018-12-06                     198                      4   \n",
       "\n",
       "            Minutes Very Active  Activity Calories  \n",
       "Date                                                \n",
       "2018-04-26                    0                566  \n",
       "2018-04-27                   17               1752  \n",
       "2018-04-28                   11               1124  \n",
       "2018-04-29                    0                602  \n",
       "2018-04-30                    0                540  \n",
       "...                         ...                ...  \n",
       "2018-12-02                   70               2305  \n",
       "2018-12-03                   51               1993  \n",
       "2018-12-04                   67               1663  \n",
       "2018-12-05                   69               1968  \n",
       "2018-12-06                   78               1962  \n",
       "\n",
       "[225 rows x 9 columns]"
      ]
     },
     "execution_count": 117,
     "metadata": {},
     "output_type": "execute_result"
    }
   ],
   "source": [
    "df"
   ]
  },
  {
   "cell_type": "code",
   "execution_count": 118,
   "id": "c289002c",
   "metadata": {},
   "outputs": [
    {
     "data": {
      "text/html": [
       "<div>\n",
       "<style scoped>\n",
       "    .dataframe tbody tr th:only-of-type {\n",
       "        vertical-align: middle;\n",
       "    }\n",
       "\n",
       "    .dataframe tbody tr th {\n",
       "        vertical-align: top;\n",
       "    }\n",
       "\n",
       "    .dataframe thead th {\n",
       "        text-align: right;\n",
       "    }\n",
       "</style>\n",
       "<table border=\"1\" class=\"dataframe\">\n",
       "  <thead>\n",
       "    <tr style=\"text-align: right;\">\n",
       "      <th></th>\n",
       "      <th>calories_burned</th>\n",
       "      <th>Steps</th>\n",
       "      <th>Distance</th>\n",
       "      <th>Floors</th>\n",
       "      <th>minutes_sedentary</th>\n",
       "      <th>Minutes Lightly Active</th>\n",
       "      <th>Minutes Fairly Active</th>\n",
       "      <th>Minutes Very Active</th>\n",
       "      <th>Activity Calories</th>\n",
       "    </tr>\n",
       "  </thead>\n",
       "  <tbody>\n",
       "    <tr>\n",
       "      <th>count</th>\n",
       "      <td>225.000000</td>\n",
       "      <td>225.000000</td>\n",
       "      <td>225.000000</td>\n",
       "      <td>225.000000</td>\n",
       "      <td>225.000000</td>\n",
       "      <td>225.000000</td>\n",
       "      <td>225.000000</td>\n",
       "      <td>225.000000</td>\n",
       "      <td>225.000000</td>\n",
       "    </tr>\n",
       "    <tr>\n",
       "      <th>mean</th>\n",
       "      <td>3401.911111</td>\n",
       "      <td>8536.186667</td>\n",
       "      <td>4.046800</td>\n",
       "      <td>12.591111</td>\n",
       "      <td>809.520000</td>\n",
       "      <td>188.235556</td>\n",
       "      <td>14.920000</td>\n",
       "      <td>33.871111</td>\n",
       "      <td>1484.546667</td>\n",
       "    </tr>\n",
       "    <tr>\n",
       "      <th>std</th>\n",
       "      <td>632.426578</td>\n",
       "      <td>5255.746608</td>\n",
       "      <td>2.506253</td>\n",
       "      <td>25.844174</td>\n",
       "      <td>243.232639</td>\n",
       "      <td>75.170001</td>\n",
       "      <td>15.363535</td>\n",
       "      <td>37.195986</td>\n",
       "      <td>747.795790</td>\n",
       "    </tr>\n",
       "    <tr>\n",
       "      <th>min</th>\n",
       "      <td>799.000000</td>\n",
       "      <td>0.000000</td>\n",
       "      <td>0.000000</td>\n",
       "      <td>0.000000</td>\n",
       "      <td>28.000000</td>\n",
       "      <td>0.000000</td>\n",
       "      <td>0.000000</td>\n",
       "      <td>0.000000</td>\n",
       "      <td>0.000000</td>\n",
       "    </tr>\n",
       "    <tr>\n",
       "      <th>25%</th>\n",
       "      <td>3069.000000</td>\n",
       "      <td>4714.000000</td>\n",
       "      <td>2.220000</td>\n",
       "      <td>2.000000</td>\n",
       "      <td>654.000000</td>\n",
       "      <td>158.000000</td>\n",
       "      <td>3.000000</td>\n",
       "      <td>2.000000</td>\n",
       "      <td>1062.000000</td>\n",
       "    </tr>\n",
       "    <tr>\n",
       "      <th>50%</th>\n",
       "      <td>3385.000000</td>\n",
       "      <td>7806.000000</td>\n",
       "      <td>3.680000</td>\n",
       "      <td>7.000000</td>\n",
       "      <td>750.000000</td>\n",
       "      <td>203.000000</td>\n",
       "      <td>11.000000</td>\n",
       "      <td>15.000000</td>\n",
       "      <td>1481.000000</td>\n",
       "    </tr>\n",
       "    <tr>\n",
       "      <th>75%</th>\n",
       "      <td>3765.000000</td>\n",
       "      <td>12380.000000</td>\n",
       "      <td>5.900000</td>\n",
       "      <td>13.000000</td>\n",
       "      <td>877.000000</td>\n",
       "      <td>236.000000</td>\n",
       "      <td>21.000000</td>\n",
       "      <td>63.000000</td>\n",
       "      <td>1962.000000</td>\n",
       "    </tr>\n",
       "    <tr>\n",
       "      <th>max</th>\n",
       "      <td>5199.000000</td>\n",
       "      <td>25512.000000</td>\n",
       "      <td>12.000000</td>\n",
       "      <td>195.000000</td>\n",
       "      <td>1440.000000</td>\n",
       "      <td>349.000000</td>\n",
       "      <td>78.000000</td>\n",
       "      <td>154.000000</td>\n",
       "      <td>3596.000000</td>\n",
       "    </tr>\n",
       "  </tbody>\n",
       "</table>\n",
       "</div>"
      ],
      "text/plain": [
       "       calories_burned         Steps    Distance      Floors  \\\n",
       "count       225.000000    225.000000  225.000000  225.000000   \n",
       "mean       3401.911111   8536.186667    4.046800   12.591111   \n",
       "std         632.426578   5255.746608    2.506253   25.844174   \n",
       "min         799.000000      0.000000    0.000000    0.000000   \n",
       "25%        3069.000000   4714.000000    2.220000    2.000000   \n",
       "50%        3385.000000   7806.000000    3.680000    7.000000   \n",
       "75%        3765.000000  12380.000000    5.900000   13.000000   \n",
       "max        5199.000000  25512.000000   12.000000  195.000000   \n",
       "\n",
       "       minutes_sedentary  Minutes Lightly Active  Minutes Fairly Active  \\\n",
       "count         225.000000              225.000000             225.000000   \n",
       "mean          809.520000              188.235556              14.920000   \n",
       "std           243.232639               75.170001              15.363535   \n",
       "min            28.000000                0.000000               0.000000   \n",
       "25%           654.000000              158.000000               3.000000   \n",
       "50%           750.000000              203.000000              11.000000   \n",
       "75%           877.000000              236.000000              21.000000   \n",
       "max          1440.000000              349.000000              78.000000   \n",
       "\n",
       "       Minutes Very Active  Activity Calories  \n",
       "count           225.000000         225.000000  \n",
       "mean             33.871111        1484.546667  \n",
       "std              37.195986         747.795790  \n",
       "min               0.000000           0.000000  \n",
       "25%               2.000000        1062.000000  \n",
       "50%              15.000000        1481.000000  \n",
       "75%              63.000000        1962.000000  \n",
       "max             154.000000        3596.000000  "
      ]
     },
     "execution_count": 118,
     "metadata": {},
     "output_type": "execute_result"
    }
   ],
   "source": [
    "df.describe()"
   ]
  },
  {
   "cell_type": "code",
   "execution_count": 119,
   "id": "47304323",
   "metadata": {},
   "outputs": [
    {
     "data": {
      "image/png": "[encoded data removed]",
      "text/plain": [
       "<Figure size 288x216 with 1 Axes>"
      ]
     },
     "metadata": {
      "needs_background": "light"
     },
     "output_type": "display_data"
    },
    {
     "data": {
      "image/png": "[encoded data removed]",
      "text/plain": [
       "<Figure size 288x216 with 1 Axes>"
      ]
     },
     "metadata": {
      "needs_background": "light"
     },
     "output_type": "display_data"
    },
    {
     "data": {
      "image/png": "[encoded data removed]",
      "text/plain": [
       "<Figure size 288x216 with 1 Axes>"
      ]
     },
     "metadata": {
      "needs_background": "light"
     },
     "output_type": "display_data"
    },
    {
     "data": {
      "image/png": "[encoded data removed]",
      "text/plain": [
       "<Figure size 288x216 with 1 Axes>"
      ]
     },
     "metadata": {
      "needs_background": "light"
     },
     "output_type": "display_data"
    },
    {
     "data": {
      "image/png": "[encoded data removed]",
      "text/plain": [
       "<Figure size 288x216 with 1 Axes>"
      ]
     },
     "metadata": {
      "needs_background": "light"
     },
     "output_type": "display_data"
    },
    {
     "data": {
      "image/png": "[encoded data removed]",
      "text/plain": [
       "<Figure size 288x216 with 1 Axes>"
      ]
     },
     "metadata": {
      "needs_background": "light"
     },
     "output_type": "display_data"
    },
    {
     "data": {
      "image/png": "[encoded data removed]",
      "text/plain": [
       "<Figure size 288x216 with 1 Axes>"
      ]
     },
     "metadata": {
      "needs_background": "light"
     },
     "output_type": "display_data"
    },
    {
     "data": {
      "image/png": "[encoded data removed]",
      "text/plain": [
       "<Figure size 288x216 with 1 Axes>"
      ]
     },
     "metadata": {
      "needs_background": "light"
     },
     "output_type": "display_data"
    },
    {
     "data": {
      "image/png": "[encoded data removed]",
      "text/plain": [
       "<Figure size 288x216 with 1 Axes>"
      ]
     },
     "metadata": {
      "needs_background": "light"
     },
     "output_type": "display_data"
    }
   ],
   "source": [
    "# 2. Plot the distribution of each of your variables.\n",
    "for col in list(df):\n",
    "    plt.figure(figsize = (4,3))\n",
    "    plt.hist(data = df, x = col)\n",
    "    plt.title(f'Distribution of {col}')\n",
    "    plt.show()"
   ]
  },
  {
   "cell_type": "code",
   "execution_count": 120,
   "id": "43b93baf",
   "metadata": {},
   "outputs": [
    {
     "data": {
      "text/html": [
       "<div>\n",
       "<style scoped>\n",
       "    .dataframe tbody tr th:only-of-type {\n",
       "        vertical-align: middle;\n",
       "    }\n",
       "\n",
       "    .dataframe tbody tr th {\n",
       "        vertical-align: top;\n",
       "    }\n",
       "\n",
       "    .dataframe thead th {\n",
       "        text-align: right;\n",
       "    }\n",
       "</style>\n",
       "<table border=\"1\" class=\"dataframe\">\n",
       "  <thead>\n",
       "    <tr style=\"text-align: right;\">\n",
       "      <th></th>\n",
       "      <th>calories_burned</th>\n",
       "      <th>Steps</th>\n",
       "      <th>Distance</th>\n",
       "      <th>Floors</th>\n",
       "      <th>minutes_sedentary</th>\n",
       "      <th>Minutes Lightly Active</th>\n",
       "      <th>Minutes Fairly Active</th>\n",
       "      <th>Minutes Very Active</th>\n",
       "      <th>Activity Calories</th>\n",
       "      <th>day_of_week</th>\n",
       "    </tr>\n",
       "    <tr>\n",
       "      <th>Date</th>\n",
       "      <th></th>\n",
       "      <th></th>\n",
       "      <th></th>\n",
       "      <th></th>\n",
       "      <th></th>\n",
       "      <th></th>\n",
       "      <th></th>\n",
       "      <th></th>\n",
       "      <th></th>\n",
       "      <th></th>\n",
       "    </tr>\n",
       "  </thead>\n",
       "  <tbody>\n",
       "    <tr>\n",
       "      <th>2018-04-26</th>\n",
       "      <td>2635</td>\n",
       "      <td>2931</td>\n",
       "      <td>1.38</td>\n",
       "      <td>2</td>\n",
       "      <td>1347</td>\n",
       "      <td>93</td>\n",
       "      <td>0</td>\n",
       "      <td>0</td>\n",
       "      <td>566</td>\n",
       "      <td>Thursday</td>\n",
       "    </tr>\n",
       "    <tr>\n",
       "      <th>2018-04-27</th>\n",
       "      <td>3649</td>\n",
       "      <td>9971</td>\n",
       "      <td>4.70</td>\n",
       "      <td>19</td>\n",
       "      <td>1158</td>\n",
       "      <td>219</td>\n",
       "      <td>46</td>\n",
       "      <td>17</td>\n",
       "      <td>1752</td>\n",
       "      <td>Friday</td>\n",
       "    </tr>\n",
       "    <tr>\n",
       "      <th>2018-04-28</th>\n",
       "      <td>3379</td>\n",
       "      <td>3521</td>\n",
       "      <td>1.66</td>\n",
       "      <td>2</td>\n",
       "      <td>702</td>\n",
       "      <td>155</td>\n",
       "      <td>22</td>\n",
       "      <td>11</td>\n",
       "      <td>1124</td>\n",
       "      <td>Saturday</td>\n",
       "    </tr>\n",
       "    <tr>\n",
       "      <th>2018-04-29</th>\n",
       "      <td>2851</td>\n",
       "      <td>1639</td>\n",
       "      <td>0.77</td>\n",
       "      <td>0</td>\n",
       "      <td>891</td>\n",
       "      <td>122</td>\n",
       "      <td>0</td>\n",
       "      <td>0</td>\n",
       "      <td>602</td>\n",
       "      <td>Sunday</td>\n",
       "    </tr>\n",
       "    <tr>\n",
       "      <th>2018-04-30</th>\n",
       "      <td>2825</td>\n",
       "      <td>1323</td>\n",
       "      <td>0.62</td>\n",
       "      <td>0</td>\n",
       "      <td>880</td>\n",
       "      <td>104</td>\n",
       "      <td>0</td>\n",
       "      <td>0</td>\n",
       "      <td>540</td>\n",
       "      <td>Monday</td>\n",
       "    </tr>\n",
       "    <tr>\n",
       "      <th>2018-05-01</th>\n",
       "      <td>3292</td>\n",
       "      <td>2581</td>\n",
       "      <td>1.22</td>\n",
       "      <td>0</td>\n",
       "      <td>919</td>\n",
       "      <td>167</td>\n",
       "      <td>13</td>\n",
       "      <td>2</td>\n",
       "      <td>1068</td>\n",
       "      <td>Tuesday</td>\n",
       "    </tr>\n",
       "    <tr>\n",
       "      <th>2018-05-02</th>\n",
       "      <td>2660</td>\n",
       "      <td>1372</td>\n",
       "      <td>0.65</td>\n",
       "      <td>0</td>\n",
       "      <td>927</td>\n",
       "      <td>90</td>\n",
       "      <td>0</td>\n",
       "      <td>0</td>\n",
       "      <td>419</td>\n",
       "      <td>Wednesday</td>\n",
       "    </tr>\n",
       "    <tr>\n",
       "      <th>2018-05-03</th>\n",
       "      <td>3121</td>\n",
       "      <td>2232</td>\n",
       "      <td>1.05</td>\n",
       "      <td>0</td>\n",
       "      <td>876</td>\n",
       "      <td>157</td>\n",
       "      <td>16</td>\n",
       "      <td>0</td>\n",
       "      <td>1006</td>\n",
       "      <td>Thursday</td>\n",
       "    </tr>\n",
       "    <tr>\n",
       "      <th>2018-05-04</th>\n",
       "      <td>2522</td>\n",
       "      <td>904</td>\n",
       "      <td>0.43</td>\n",
       "      <td>1</td>\n",
       "      <td>1012</td>\n",
       "      <td>61</td>\n",
       "      <td>0</td>\n",
       "      <td>0</td>\n",
       "      <td>269</td>\n",
       "      <td>Friday</td>\n",
       "    </tr>\n",
       "    <tr>\n",
       "      <th>2018-05-05</th>\n",
       "      <td>2551</td>\n",
       "      <td>833</td>\n",
       "      <td>0.39</td>\n",
       "      <td>0</td>\n",
       "      <td>969</td>\n",
       "      <td>68</td>\n",
       "      <td>0</td>\n",
       "      <td>0</td>\n",
       "      <td>326</td>\n",
       "      <td>Saturday</td>\n",
       "    </tr>\n",
       "  </tbody>\n",
       "</table>\n",
       "</div>"
      ],
      "text/plain": [
       "            calories_burned  Steps  Distance  Floors  minutes_sedentary  \\\n",
       "Date                                                                      \n",
       "2018-04-26             2635   2931      1.38       2               1347   \n",
       "2018-04-27             3649   9971      4.70      19               1158   \n",
       "2018-04-28             3379   3521      1.66       2                702   \n",
       "2018-04-29             2851   1639      0.77       0                891   \n",
       "2018-04-30             2825   1323      0.62       0                880   \n",
       "2018-05-01             3292   2581      1.22       0                919   \n",
       "2018-05-02             2660   1372      0.65       0                927   \n",
       "2018-05-03             3121   2232      1.05       0                876   \n",
       "2018-05-04             2522    904      0.43       1               1012   \n",
       "2018-05-05             2551    833      0.39       0                969   \n",
       "\n",
       "            Minutes Lightly Active  Minutes Fairly Active  \\\n",
       "Date                                                        \n",
       "2018-04-26                      93                      0   \n",
       "2018-04-27                     219                     46   \n",
       "2018-04-28                     155                     22   \n",
       "2018-04-29                     122                      0   \n",
       "2018-04-30                     104                      0   \n",
       "2018-05-01                     167                     13   \n",
       "2018-05-02                      90                      0   \n",
       "2018-05-03                     157                     16   \n",
       "2018-05-04                      61                      0   \n",
       "2018-05-05                      68                      0   \n",
       "\n",
       "            Minutes Very Active  Activity Calories day_of_week  \n",
       "Date                                                            \n",
       "2018-04-26                    0                566    Thursday  \n",
       "2018-04-27                   17               1752      Friday  \n",
       "2018-04-28                   11               1124    Saturday  \n",
       "2018-04-29                    0                602      Sunday  \n",
       "2018-04-30                    0                540      Monday  \n",
       "2018-05-01                    2               1068     Tuesday  \n",
       "2018-05-02                    0                419   Wednesday  \n",
       "2018-05-03                    0               1006    Thursday  \n",
       "2018-05-04                    0                269      Friday  \n",
       "2018-05-05                    0                326    Saturday  "
      ]
     },
     "execution_count": 120,
     "metadata": {},
     "output_type": "execute_result"
    }
   ],
   "source": [
    "df['day_of_week'] = df.index.day_name()\n",
    "df.head(10)"
   ]
  },
  {
   "cell_type": "code",
   "execution_count": 121,
   "id": "c9f31015",
   "metadata": {},
   "outputs": [
    {
     "data": {
      "text/html": [
       "<div>\n",
       "<style scoped>\n",
       "    .dataframe tbody tr th:only-of-type {\n",
       "        vertical-align: middle;\n",
       "    }\n",
       "\n",
       "    .dataframe tbody tr th {\n",
       "        vertical-align: top;\n",
       "    }\n",
       "\n",
       "    .dataframe thead th {\n",
       "        text-align: right;\n",
       "    }\n",
       "</style>\n",
       "<table border=\"1\" class=\"dataframe\">\n",
       "  <thead>\n",
       "    <tr style=\"text-align: right;\">\n",
       "      <th></th>\n",
       "      <th>calories_burned</th>\n",
       "      <th>Steps</th>\n",
       "      <th>Distance</th>\n",
       "      <th>Floors</th>\n",
       "      <th>minutes_sedentary</th>\n",
       "      <th>Minutes Lightly Active</th>\n",
       "      <th>Minutes Fairly Active</th>\n",
       "      <th>Minutes Very Active</th>\n",
       "      <th>Activity Calories</th>\n",
       "      <th>day_of_week</th>\n",
       "      <th>month</th>\n",
       "    </tr>\n",
       "    <tr>\n",
       "      <th>Date</th>\n",
       "      <th></th>\n",
       "      <th></th>\n",
       "      <th></th>\n",
       "      <th></th>\n",
       "      <th></th>\n",
       "      <th></th>\n",
       "      <th></th>\n",
       "      <th></th>\n",
       "      <th></th>\n",
       "      <th></th>\n",
       "      <th></th>\n",
       "    </tr>\n",
       "  </thead>\n",
       "  <tbody>\n",
       "    <tr>\n",
       "      <th>2018-04-26</th>\n",
       "      <td>2635</td>\n",
       "      <td>2931</td>\n",
       "      <td>1.38</td>\n",
       "      <td>2</td>\n",
       "      <td>1347</td>\n",
       "      <td>93</td>\n",
       "      <td>0</td>\n",
       "      <td>0</td>\n",
       "      <td>566</td>\n",
       "      <td>Thursday</td>\n",
       "      <td>4</td>\n",
       "    </tr>\n",
       "    <tr>\n",
       "      <th>2018-04-27</th>\n",
       "      <td>3649</td>\n",
       "      <td>9971</td>\n",
       "      <td>4.70</td>\n",
       "      <td>19</td>\n",
       "      <td>1158</td>\n",
       "      <td>219</td>\n",
       "      <td>46</td>\n",
       "      <td>17</td>\n",
       "      <td>1752</td>\n",
       "      <td>Friday</td>\n",
       "      <td>4</td>\n",
       "    </tr>\n",
       "    <tr>\n",
       "      <th>2018-04-28</th>\n",
       "      <td>3379</td>\n",
       "      <td>3521</td>\n",
       "      <td>1.66</td>\n",
       "      <td>2</td>\n",
       "      <td>702</td>\n",
       "      <td>155</td>\n",
       "      <td>22</td>\n",
       "      <td>11</td>\n",
       "      <td>1124</td>\n",
       "      <td>Saturday</td>\n",
       "      <td>4</td>\n",
       "    </tr>\n",
       "    <tr>\n",
       "      <th>2018-04-29</th>\n",
       "      <td>2851</td>\n",
       "      <td>1639</td>\n",
       "      <td>0.77</td>\n",
       "      <td>0</td>\n",
       "      <td>891</td>\n",
       "      <td>122</td>\n",
       "      <td>0</td>\n",
       "      <td>0</td>\n",
       "      <td>602</td>\n",
       "      <td>Sunday</td>\n",
       "      <td>4</td>\n",
       "    </tr>\n",
       "    <tr>\n",
       "      <th>2018-04-30</th>\n",
       "      <td>2825</td>\n",
       "      <td>1323</td>\n",
       "      <td>0.62</td>\n",
       "      <td>0</td>\n",
       "      <td>880</td>\n",
       "      <td>104</td>\n",
       "      <td>0</td>\n",
       "      <td>0</td>\n",
       "      <td>540</td>\n",
       "      <td>Monday</td>\n",
       "      <td>4</td>\n",
       "    </tr>\n",
       "    <tr>\n",
       "      <th>2018-05-01</th>\n",
       "      <td>3292</td>\n",
       "      <td>2581</td>\n",
       "      <td>1.22</td>\n",
       "      <td>0</td>\n",
       "      <td>919</td>\n",
       "      <td>167</td>\n",
       "      <td>13</td>\n",
       "      <td>2</td>\n",
       "      <td>1068</td>\n",
       "      <td>Tuesday</td>\n",
       "      <td>5</td>\n",
       "    </tr>\n",
       "    <tr>\n",
       "      <th>2018-05-02</th>\n",
       "      <td>2660</td>\n",
       "      <td>1372</td>\n",
       "      <td>0.65</td>\n",
       "      <td>0</td>\n",
       "      <td>927</td>\n",
       "      <td>90</td>\n",
       "      <td>0</td>\n",
       "      <td>0</td>\n",
       "      <td>419</td>\n",
       "      <td>Wednesday</td>\n",
       "      <td>5</td>\n",
       "    </tr>\n",
       "    <tr>\n",
       "      <th>2018-05-03</th>\n",
       "      <td>3121</td>\n",
       "      <td>2232</td>\n",
       "      <td>1.05</td>\n",
       "      <td>0</td>\n",
       "      <td>876</td>\n",
       "      <td>157</td>\n",
       "      <td>16</td>\n",
       "      <td>0</td>\n",
       "      <td>1006</td>\n",
       "      <td>Thursday</td>\n",
       "      <td>5</td>\n",
       "    </tr>\n",
       "    <tr>\n",
       "      <th>2018-05-04</th>\n",
       "      <td>2522</td>\n",
       "      <td>904</td>\n",
       "      <td>0.43</td>\n",
       "      <td>1</td>\n",
       "      <td>1012</td>\n",
       "      <td>61</td>\n",
       "      <td>0</td>\n",
       "      <td>0</td>\n",
       "      <td>269</td>\n",
       "      <td>Friday</td>\n",
       "      <td>5</td>\n",
       "    </tr>\n",
       "    <tr>\n",
       "      <th>2018-05-05</th>\n",
       "      <td>2551</td>\n",
       "      <td>833</td>\n",
       "      <td>0.39</td>\n",
       "      <td>0</td>\n",
       "      <td>969</td>\n",
       "      <td>68</td>\n",
       "      <td>0</td>\n",
       "      <td>0</td>\n",
       "      <td>326</td>\n",
       "      <td>Saturday</td>\n",
       "      <td>5</td>\n",
       "    </tr>\n",
       "  </tbody>\n",
       "</table>\n",
       "</div>"
      ],
      "text/plain": [
       "            calories_burned  Steps  Distance  Floors  minutes_sedentary  \\\n",
       "Date                                                                      \n",
       "2018-04-26             2635   2931      1.38       2               1347   \n",
       "2018-04-27             3649   9971      4.70      19               1158   \n",
       "2018-04-28             3379   3521      1.66       2                702   \n",
       "2018-04-29             2851   1639      0.77       0                891   \n",
       "2018-04-30             2825   1323      0.62       0                880   \n",
       "2018-05-01             3292   2581      1.22       0                919   \n",
       "2018-05-02             2660   1372      0.65       0                927   \n",
       "2018-05-03             3121   2232      1.05       0                876   \n",
       "2018-05-04             2522    904      0.43       1               1012   \n",
       "2018-05-05             2551    833      0.39       0                969   \n",
       "\n",
       "            Minutes Lightly Active  Minutes Fairly Active  \\\n",
       "Date                                                        \n",
       "2018-04-26                      93                      0   \n",
       "2018-04-27                     219                     46   \n",
       "2018-04-28                     155                     22   \n",
       "2018-04-29                     122                      0   \n",
       "2018-04-30                     104                      0   \n",
       "2018-05-01                     167                     13   \n",
       "2018-05-02                      90                      0   \n",
       "2018-05-03                     157                     16   \n",
       "2018-05-04                      61                      0   \n",
       "2018-05-05                      68                      0   \n",
       "\n",
       "            Minutes Very Active  Activity Calories day_of_week  month  \n",
       "Date                                                                   \n",
       "2018-04-26                    0                566    Thursday      4  \n",
       "2018-04-27                   17               1752      Friday      4  \n",
       "2018-04-28                   11               1124    Saturday      4  \n",
       "2018-04-29                    0                602      Sunday      4  \n",
       "2018-04-30                    0                540      Monday      4  \n",
       "2018-05-01                    2               1068     Tuesday      5  \n",
       "2018-05-02                    0                419   Wednesday      5  \n",
       "2018-05-03                    0               1006    Thursday      5  \n",
       "2018-05-04                    0                269      Friday      5  \n",
       "2018-05-05                    0                326    Saturday      5  "
      ]
     },
     "execution_count": 121,
     "metadata": {},
     "output_type": "execute_result"
    }
   ],
   "source": [
    "df['month'] = df.index.month\n",
    "df.head(10)"
   ]
  },
  {
   "cell_type": "code",
   "execution_count": 122,
   "id": "e155b5dc",
   "metadata": {},
   "outputs": [
    {
     "data": {
      "image/png": "[encoded data removed]",
      "text/plain": [
       "<Figure size 288x216 with 1 Axes>"
      ]
     },
     "metadata": {
      "needs_background": "light"
     },
     "output_type": "display_data"
    },
    {
     "data": {
      "image/png": "[encoded data removed]",
      "text/plain": [
       "<Figure size 288x216 with 1 Axes>"
      ]
     },
     "metadata": {
      "needs_background": "light"
     },
     "output_type": "display_data"
    },
    {
     "data": {
      "image/png": "[encoded data removed]",
      "text/plain": [
       "<Figure size 288x216 with 1 Axes>"
      ]
     },
     "metadata": {
      "needs_background": "light"
     },
     "output_type": "display_data"
    },
    {
     "data": {
      "image/png": "[encoded data removed]",
      "text/plain": [
       "<Figure size 288x216 with 1 Axes>"
      ]
     },
     "metadata": {
      "needs_background": "light"
     },
     "output_type": "display_data"
    },
    {
     "data": {
      "image/png": "[encoded data removed]",
      "text/plain": [
       "<Figure size 288x216 with 1 Axes>"
      ]
     },
     "metadata": {
      "needs_background": "light"
     },
     "output_type": "display_data"
    },
    {
     "data": {
      "image/png": "[encoded data removed]",
      "text/plain": [
       "<Figure size 288x216 with 1 Axes>"
      ]
     },
     "metadata": {
      "needs_background": "light"
     },
     "output_type": "display_data"
    },
    {
     "data": {
      "image/png": "[encoded data removed]",
      "text/plain": [
       "<Figure size 288x216 with 1 Axes>"
      ]
     },
     "metadata": {
      "needs_background": "light"
     },
     "output_type": "display_data"
    },
    {
     "data": {
      "image/png": "[encoded data removed]",
      "text/plain": [
       "<Figure size 288x216 with 1 Axes>"
      ]
     },
     "metadata": {
      "needs_background": "light"
     },
     "output_type": "display_data"
    },
    {
     "data": {
      "image/png": "[encoded data removed]",
      "text/plain": [
       "<Figure size 288x216 with 1 Axes>"
      ]
     },
     "metadata": {
      "needs_background": "light"
     },
     "output_type": "display_data"
    },
    {
     "data": {
      "image/png": "[encoded data removed]",
      "text/plain": [
       "<Figure size 288x216 with 1 Axes>"
      ]
     },
     "metadata": {
      "needs_background": "light"
     },
     "output_type": "display_data"
    },
    {
     "data": {
      "image/png": "[encoded data removed]",
      "text/plain": [
       "<Figure size 288x216 with 1 Axes>"
      ]
     },
     "metadata": {
      "needs_background": "light"
     },
     "output_type": "display_data"
    }
   ],
   "source": [
    "for col in list(df):\n",
    "    plt.figure(figsize = (4,3))\n",
    "    plt.hist(data = df, x = col)\n",
    "    plt.title(f'Distribution of {col}')\n",
    "    plt.show()"
   ]
  },
  {
   "cell_type": "code",
   "execution_count": 123,
   "id": "2697d3de",
   "metadata": {},
   "outputs": [],
   "source": [
    "def missing_values_table(df):\n",
    "    '''\n",
    "    this function takes a dataframe as input and will output metrics for missing values, \n",
    "    and the percent of that column that has missing values\n",
    "    '''\n",
    "    # Total missing values\n",
    "    mis_val = df.isnull().sum()\n",
    "    \n",
    "    # Percentage of missing values\n",
    "    mis_val_percent = 100 * df.isnull().sum() / len(df)\n",
    "    \n",
    "    # Make a table with the results\n",
    "    mis_val_table = pd.concat([mis_val, mis_val_percent], axis=1)\n",
    "    \n",
    "    # Rename the columns\n",
    "    mis_val_table_ren_columns = mis_val_table.rename(\n",
    "    columns = {0 : 'Missing Values', 1 : '% of Total Values'})\n",
    "    \n",
    "    # Sort the table by percentage of missing descending\n",
    "    mis_val_table_ren_columns = mis_val_table_ren_columns[\n",
    "        mis_val_table_ren_columns.iloc[:,1] != 0].sort_values(\n",
    "    '% of Total Values', ascending=False).round(1)\n",
    "    \n",
    "    # Print some summary information\n",
    "    print (\"Your selected dataframe has \" + str(df.shape[1]) + \" columns.\\n\"      \n",
    "        \"There are \" + str(mis_val_table_ren_columns.shape[0]) +\n",
    "        \" columns that have missing values.\")\n",
    "        \n",
    "        # Return the dataframe with missing information\n",
    "    return mis_val_table_ren_columns"
   ]
  },
  {
   "cell_type": "code",
   "execution_count": 124,
   "id": "af9a5777",
   "metadata": {},
   "outputs": [
    {
     "name": "stdout",
     "output_type": "stream",
     "text": [
      "Your selected dataframe has 11 columns.\n",
      "There are 0 columns that have missing values.\n"
     ]
    },
    {
     "data": {
      "text/html": [
       "<div>\n",
       "<style scoped>\n",
       "    .dataframe tbody tr th:only-of-type {\n",
       "        vertical-align: middle;\n",
       "    }\n",
       "\n",
       "    .dataframe tbody tr th {\n",
       "        vertical-align: top;\n",
       "    }\n",
       "\n",
       "    .dataframe thead th {\n",
       "        text-align: right;\n",
       "    }\n",
       "</style>\n",
       "<table border=\"1\" class=\"dataframe\">\n",
       "  <thead>\n",
       "    <tr style=\"text-align: right;\">\n",
       "      <th></th>\n",
       "      <th>Missing Values</th>\n",
       "      <th>% of Total Values</th>\n",
       "    </tr>\n",
       "  </thead>\n",
       "  <tbody>\n",
       "  </tbody>\n",
       "</table>\n",
       "</div>"
      ],
      "text/plain": [
       "Empty DataFrame\n",
       "Columns: [Missing Values, % of Total Values]\n",
       "Index: []"
      ]
     },
     "execution_count": 124,
     "metadata": {},
     "output_type": "execute_result"
    }
   ],
   "source": [
    "# look at missing values\n",
    "missing_values_table(df)"
   ]
  },
  {
   "cell_type": "code",
   "execution_count": 125,
   "id": "c520f17b",
   "metadata": {},
   "outputs": [],
   "source": [
    "df = df.reset_index('Date')\n"
   ]
  },
  {
   "cell_type": "code",
   "execution_count": 127,
   "id": "9bf4b33b",
   "metadata": {},
   "outputs": [
    {
     "name": "stdout",
     "output_type": "stream",
     "text": [
      "<class 'pandas.core.frame.DataFrame'>\n",
      "RangeIndex: 225 entries, 0 to 224\n",
      "Data columns (total 12 columns):\n",
      " #   Column                  Non-Null Count  Dtype         \n",
      "---  ------                  --------------  -----         \n",
      " 0   Date                    225 non-null    datetime64[ns]\n",
      " 1   calories_burned         225 non-null    int64         \n",
      " 2   Steps                   225 non-null    int64         \n",
      " 3   Distance                225 non-null    float64       \n",
      " 4   Floors                  225 non-null    int64         \n",
      " 5   minutes_sedentary       225 non-null    int64         \n",
      " 6   Minutes Lightly Active  225 non-null    int64         \n",
      " 7   Minutes Fairly Active   225 non-null    int64         \n",
      " 8   Minutes Very Active     225 non-null    int64         \n",
      " 9   Activity Calories       225 non-null    int64         \n",
      " 10  day_of_week             225 non-null    object        \n",
      " 11  month                   225 non-null    int64         \n",
      "dtypes: datetime64[ns](1), float64(1), int64(9), object(1)\n",
      "memory usage: 21.2+ KB\n"
     ]
    }
   ],
   "source": [
    "df.info()"
   ]
  },
  {
   "cell_type": "code",
   "execution_count": null,
   "id": "624e6b81",
   "metadata": {},
   "outputs": [],
   "source": []
  },
  {
   "cell_type": "code",
   "execution_count": null,
   "id": "d92286a4",
   "metadata": {},
   "outputs": [],
   "source": []
  },
  {
   "cell_type": "code",
   "execution_count": 128,
   "id": "f4700f43",
   "metadata": {},
   "outputs": [
    {
     "data": {
      "text/plain": [
       "<AxesSubplot:xlabel='Date'>"
      ]
     },
     "execution_count": 128,
     "metadata": {},
     "output_type": "execute_result"
    },
    {
     "data": {
      "image/png": "[encoded data removed]",
      "text/plain": [
       "<Figure size 432x288 with 1 Axes>"
      ]
     },
     "metadata": {
      "needs_background": "light"
     },
     "output_type": "display_data"
    }
   ],
   "source": [
    "df.groupby(df[\"Date\"].dt.month).count().plot(kind=\"bar\")"
   ]
  },
  {
   "cell_type": "code",
   "execution_count": 129,
   "id": "7c6efaa4",
   "metadata": {},
   "outputs": [
    {
     "data": {
      "text/plain": [
       "[<matplotlib.lines.Line2D at 0x7f8fb83a5910>]"
      ]
     },
     "execution_count": 129,
     "metadata": {},
     "output_type": "execute_result"
    },
    {
     "data": {
      "image/png": "[encoded data removed]",
      "text/plain": [
       "<Figure size 432x288 with 1 Axes>"
      ]
     },
     "metadata": {
      "needs_background": "light"
     },
     "output_type": "display_data"
    }
   ],
   "source": [
    "from sklearn.model_selection import TimeSeriesSplit\n",
    "\n",
    "train_size = .70\n",
    "n = df.shape[0]\n",
    "test_start_index = round(train_size * n)\n",
    "\n",
    "train = df[:test_start_index] # everything up (not including) to the test_start_index\n",
    "test = df[test_start_index:] # everything from the test_start_index to the end\n",
    "\n",
    "plt.plot(train.index, train.calories_burned)\n",
    "plt.plot(test.index, test.calories_burned)"
   ]
  },
  {
   "cell_type": "code",
   "execution_count": 130,
   "id": "06e719d0",
   "metadata": {},
   "outputs": [
    {
     "data": {
      "text/plain": [
       "0    2635\n",
       "1    3649\n",
       "2    3379\n",
       "3    2851\n",
       "4    2825\n",
       "Name: calories_burned, dtype: int64"
      ]
     },
     "execution_count": 130,
     "metadata": {},
     "output_type": "execute_result"
    }
   ],
   "source": [
    "y = train.calories_burned\n",
    "y.head()"
   ]
  },
  {
   "cell_type": "code",
   "execution_count": 131,
   "id": "86d9411e",
   "metadata": {},
   "outputs": [
    {
     "data": {
      "text/plain": [
       "<AxesSubplot:ylabel='Frequency'>"
      ]
     },
     "execution_count": 131,
     "metadata": {},
     "output_type": "execute_result"
    },
    {
     "data": {
      "image/png": "[encoded data removed]",
      "text/plain": [
       "<Figure size 432x288 with 1 Axes>"
      ]
     },
     "metadata": {
      "needs_background": "light"
     },
     "output_type": "display_data"
    }
   ],
   "source": [
    "y.plot.hist()"
   ]
  },
  {
   "cell_type": "code",
   "execution_count": null,
   "id": "6f5e0232",
   "metadata": {},
   "outputs": [],
   "source": []
  }
 ],
 "metadata": {
  "kernelspec": {
   "display_name": "Python 3",
   "language": "python",
   "name": "python3"
  },
  "language_info": {
   "codemirror_mode": {
    "name": "ipython",
    "version": 3
   },
   "file_extension": ".py",
   "mimetype": "text/x-python",
   "name": "python",
   "nbconvert_exporter": "python",
   "pygments_lexer": "ipython3",
   "version": "3.8.8"
  }
 },
 "nbformat": 4,
 "nbformat_minor": 5
}
